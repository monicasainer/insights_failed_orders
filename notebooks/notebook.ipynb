{
 "cells": [
  {
   "attachments": {},
   "cell_type": "markdown",
   "metadata": {},
   "source": [
    "# Information"
   ]
  },
  {
   "attachments": {},
   "cell_type": "markdown",
   "metadata": {},
   "source": [
    "`order_datetime` - time of the order\n",
    "\n",
    "`origin_longitude` - longitude of the order\n",
    "\n",
    "`origin_latitude` - latitude of the order\n",
    "\n",
    "`m_order_eta` - time before order arrival\n",
    "\n",
    "`order_gk` - order number\n",
    "\n",
    "`order_status_key` - status, an enumeration consisting of the following mapping:\n",
    "\n",
    "- `4` - cancelled by client,\n",
    "- `9` - cancelled by system, i.e., a reject\n",
    "\n",
    "`is_driver_assigned_key` - whether a driver has been assigned\n",
    "\n",
    "`cancellation_time_in_seconds` - how many seconds passed before cancellation\n",
    "\n",
    "The data_offers data set is a simple map with 2 columns:\n",
    "\n",
    "`order_gk` - order number, associated with the same column from the orders data set\n",
    "\n",
    "`offer_id` - ID of an offer"
   ]
  },
  {
   "attachments": {},
   "cell_type": "markdown",
   "metadata": {},
   "source": [
    "## Uploading data"
   ]
  },
  {
   "cell_type": "code",
   "execution_count": 2,
   "metadata": {},
   "outputs": [],
   "source": [
    "from ipywidgets import interact\n",
    "from skimpy import skim\n",
    "import pandas as pd\n",
    "import numpy as np\n",
    "import matplotlib.pyplot as plt\n",
    "import os"
   ]
  },
  {
   "cell_type": "code",
   "execution_count": 3,
   "metadata": {},
   "outputs": [],
   "source": [
    "data_source = os.environ.get(\"path_data\")\n",
    "df_data_offers=pd.read_csv(f\"{data_source}/raw_data/data_offers.csv\")\n",
    "df_data_orders=pd.read_csv(f\"{data_source}/raw_data/data_orders.csv\")"
   ]
  },
  {
   "cell_type": "code",
   "execution_count": 4,
   "metadata": {},
   "outputs": [
    {
     "data": {
      "text/html": [
       "<div>\n",
       "<style scoped>\n",
       "    .dataframe tbody tr th:only-of-type {\n",
       "        vertical-align: middle;\n",
       "    }\n",
       "\n",
       "    .dataframe tbody tr th {\n",
       "        vertical-align: top;\n",
       "    }\n",
       "\n",
       "    .dataframe thead th {\n",
       "        text-align: right;\n",
       "    }\n",
       "</style>\n",
       "<table border=\"1\" class=\"dataframe\">\n",
       "  <thead>\n",
       "    <tr style=\"text-align: right;\">\n",
       "      <th></th>\n",
       "      <th>order_gk</th>\n",
       "      <th>offer_id</th>\n",
       "    </tr>\n",
       "  </thead>\n",
       "  <tbody>\n",
       "    <tr>\n",
       "      <th>0</th>\n",
       "      <td>3000579625629</td>\n",
       "      <td>300050936206</td>\n",
       "    </tr>\n",
       "    <tr>\n",
       "      <th>1</th>\n",
       "      <td>3000627306450</td>\n",
       "      <td>300052064651</td>\n",
       "    </tr>\n",
       "    <tr>\n",
       "      <th>2</th>\n",
       "      <td>3000632920686</td>\n",
       "      <td>300052408812</td>\n",
       "    </tr>\n",
       "    <tr>\n",
       "      <th>3</th>\n",
       "      <td>3000632771725</td>\n",
       "      <td>300052393030</td>\n",
       "    </tr>\n",
       "    <tr>\n",
       "      <th>4</th>\n",
       "      <td>3000583467642</td>\n",
       "      <td>300051001196</td>\n",
       "    </tr>\n",
       "  </tbody>\n",
       "</table>\n",
       "</div>"
      ],
      "text/plain": [
       "        order_gk      offer_id\n",
       "0  3000579625629  300050936206\n",
       "1  3000627306450  300052064651\n",
       "2  3000632920686  300052408812\n",
       "3  3000632771725  300052393030\n",
       "4  3000583467642  300051001196"
      ]
     },
     "execution_count": 4,
     "metadata": {},
     "output_type": "execute_result"
    }
   ],
   "source": [
    "df_data_offers.head()"
   ]
  },
  {
   "cell_type": "code",
   "execution_count": 5,
   "metadata": {},
   "outputs": [
    {
     "data": {
      "text/html": [
       "<div>\n",
       "<style scoped>\n",
       "    .dataframe tbody tr th:only-of-type {\n",
       "        vertical-align: middle;\n",
       "    }\n",
       "\n",
       "    .dataframe tbody tr th {\n",
       "        vertical-align: top;\n",
       "    }\n",
       "\n",
       "    .dataframe thead th {\n",
       "        text-align: right;\n",
       "    }\n",
       "</style>\n",
       "<table border=\"1\" class=\"dataframe\">\n",
       "  <thead>\n",
       "    <tr style=\"text-align: right;\">\n",
       "      <th></th>\n",
       "      <th>order_datetime</th>\n",
       "      <th>origin_longitude</th>\n",
       "      <th>origin_latitude</th>\n",
       "      <th>m_order_eta</th>\n",
       "      <th>order_gk</th>\n",
       "      <th>order_status_key</th>\n",
       "      <th>is_driver_assigned_key</th>\n",
       "      <th>cancellations_time_in_seconds</th>\n",
       "    </tr>\n",
       "  </thead>\n",
       "  <tbody>\n",
       "    <tr>\n",
       "      <th>0</th>\n",
       "      <td>18:08:07</td>\n",
       "      <td>-0.978916</td>\n",
       "      <td>51.456173</td>\n",
       "      <td>60.0</td>\n",
       "      <td>3000583041974</td>\n",
       "      <td>4</td>\n",
       "      <td>1</td>\n",
       "      <td>198.0</td>\n",
       "    </tr>\n",
       "    <tr>\n",
       "      <th>1</th>\n",
       "      <td>20:57:32</td>\n",
       "      <td>-0.950385</td>\n",
       "      <td>51.456843</td>\n",
       "      <td>NaN</td>\n",
       "      <td>3000583116437</td>\n",
       "      <td>4</td>\n",
       "      <td>0</td>\n",
       "      <td>128.0</td>\n",
       "    </tr>\n",
       "    <tr>\n",
       "      <th>2</th>\n",
       "      <td>12:07:50</td>\n",
       "      <td>-0.969520</td>\n",
       "      <td>51.455544</td>\n",
       "      <td>477.0</td>\n",
       "      <td>3000582891479</td>\n",
       "      <td>4</td>\n",
       "      <td>1</td>\n",
       "      <td>46.0</td>\n",
       "    </tr>\n",
       "    <tr>\n",
       "      <th>3</th>\n",
       "      <td>13:50:20</td>\n",
       "      <td>-1.054671</td>\n",
       "      <td>51.460544</td>\n",
       "      <td>658.0</td>\n",
       "      <td>3000582941169</td>\n",
       "      <td>4</td>\n",
       "      <td>1</td>\n",
       "      <td>62.0</td>\n",
       "    </tr>\n",
       "    <tr>\n",
       "      <th>4</th>\n",
       "      <td>21:24:45</td>\n",
       "      <td>-0.967605</td>\n",
       "      <td>51.458236</td>\n",
       "      <td>NaN</td>\n",
       "      <td>3000583140877</td>\n",
       "      <td>9</td>\n",
       "      <td>0</td>\n",
       "      <td>NaN</td>\n",
       "    </tr>\n",
       "  </tbody>\n",
       "</table>\n",
       "</div>"
      ],
      "text/plain": [
       "  order_datetime  origin_longitude  origin_latitude  m_order_eta  \\\n",
       "0       18:08:07         -0.978916        51.456173         60.0   \n",
       "1       20:57:32         -0.950385        51.456843          NaN   \n",
       "2       12:07:50         -0.969520        51.455544        477.0   \n",
       "3       13:50:20         -1.054671        51.460544        658.0   \n",
       "4       21:24:45         -0.967605        51.458236          NaN   \n",
       "\n",
       "        order_gk  order_status_key  is_driver_assigned_key  \\\n",
       "0  3000583041974                 4                       1   \n",
       "1  3000583116437                 4                       0   \n",
       "2  3000582891479                 4                       1   \n",
       "3  3000582941169                 4                       1   \n",
       "4  3000583140877                 9                       0   \n",
       "\n",
       "   cancellations_time_in_seconds  \n",
       "0                          198.0  \n",
       "1                          128.0  \n",
       "2                           46.0  \n",
       "3                           62.0  \n",
       "4                            NaN  "
      ]
     },
     "execution_count": 5,
     "metadata": {},
     "output_type": "execute_result"
    }
   ],
   "source": [
    "df_data_orders.head()"
   ]
  },
  {
   "attachments": {},
   "cell_type": "markdown",
   "metadata": {},
   "source": [
    "## Exploratory data analysis"
   ]
  },
  {
   "cell_type": "code",
   "execution_count": 6,
   "metadata": {},
   "outputs": [
    {
     "data": {
      "text/plain": [
       "(334363, 2)"
      ]
     },
     "execution_count": 6,
     "metadata": {},
     "output_type": "execute_result"
    }
   ],
   "source": [
    "df_data_offers.shape"
   ]
  },
  {
   "cell_type": "code",
   "execution_count": 7,
   "metadata": {},
   "outputs": [
    {
     "data": {
      "text/plain": [
       "(10716, 8)"
      ]
     },
     "execution_count": 7,
     "metadata": {},
     "output_type": "execute_result"
    }
   ],
   "source": [
    "df_data_orders.shape"
   ]
  },
  {
   "cell_type": "code",
   "execution_count": 8,
   "metadata": {},
   "outputs": [
    {
     "data": {
      "text/html": [
       "<pre style=\"white-space:pre;overflow-x:auto;line-height:normal;font-family:Menlo,'DejaVu Sans Mono',consolas,'Courier New',monospace\">╭──────────────────────────────────────────────── skimpy summary ─────────────────────────────────────────────────╮\n",
       "│ <span style=\"font-style: italic\">         Data Summary         </span> <span style=\"font-style: italic\">      Data Types       </span>                                                          │\n",
       "│ ┏━━━━━━━━━━━━━━━━━━━┳━━━━━━━━┓ ┏━━━━━━━━━━━━━┳━━━━━━━┓                                                          │\n",
       "│ ┃<span style=\"color: #008080; text-decoration-color: #008080; font-weight: bold\"> dataframe         </span>┃<span style=\"color: #008080; text-decoration-color: #008080; font-weight: bold\"> Values </span>┃ ┃<span style=\"color: #008080; text-decoration-color: #008080; font-weight: bold\"> Column Type </span>┃<span style=\"color: #008080; text-decoration-color: #008080; font-weight: bold\"> Count </span>┃                                                          │\n",
       "│ ┡━━━━━━━━━━━━━━━━━━━╇━━━━━━━━┩ ┡━━━━━━━━━━━━━╇━━━━━━━┩                                                          │\n",
       "│ │ Number of rows    │ 10716  │ │ float64     │ 4     │                                                          │\n",
       "│ │ Number of columns │ 8      │ │ int64       │ 3     │                                                          │\n",
       "│ └───────────────────┴────────┘ │ string      │ 1     │                                                          │\n",
       "│                                └─────────────┴───────┘                                                          │\n",
       "│ <span style=\"font-style: italic\">                                                    number                                                    </span>  │\n",
       "│ ┏━━━━━━━━━━━┳━━━━━━┳━━━━━━┳━━━━━━━━━━━━┳━━━━━━━━━━┳━━━━━━━━━━━┳━━━━━━━━━━━━┳━━━━━━━━━━━┳━━━━━━━━━━━━┳━━━━━━━━┓  │\n",
       "│ ┃<span style=\"font-weight: bold\"> column_na </span>┃<span style=\"font-weight: bold\">      </span>┃<span style=\"font-weight: bold\">      </span>┃<span style=\"font-weight: bold\">            </span>┃<span style=\"font-weight: bold\">          </span>┃<span style=\"font-weight: bold\">           </span>┃<span style=\"font-weight: bold\">            </span>┃<span style=\"font-weight: bold\">           </span>┃<span style=\"font-weight: bold\">            </span>┃<span style=\"font-weight: bold\">        </span>┃  │\n",
       "│ ┃<span style=\"font-weight: bold\"> me        </span>┃<span style=\"font-weight: bold\"> NA   </span>┃<span style=\"font-weight: bold\"> NA % </span>┃<span style=\"font-weight: bold\"> mean       </span>┃<span style=\"font-weight: bold\"> sd       </span>┃<span style=\"font-weight: bold\"> p0        </span>┃<span style=\"font-weight: bold\"> p25        </span>┃<span style=\"font-weight: bold\"> p75       </span>┃<span style=\"font-weight: bold\"> p100       </span>┃<span style=\"font-weight: bold\"> hist   </span>┃  │\n",
       "│ ┡━━━━━━━━━━━╇━━━━━━╇━━━━━━╇━━━━━━━━━━━━╇━━━━━━━━━━╇━━━━━━━━━━━╇━━━━━━━━━━━━╇━━━━━━━━━━━╇━━━━━━━━━━━━╇━━━━━━━━┩  │\n",
       "│ │ <span style=\"color: #af87ff; text-decoration-color: #af87ff\">origin_lo</span> │ <span style=\"color: #008080; text-decoration-color: #008080\">   0</span> │ <span style=\"color: #008080; text-decoration-color: #008080\">   0</span> │ <span style=\"color: #008080; text-decoration-color: #008080\">     -0.96</span> │ <span style=\"color: #008080; text-decoration-color: #008080\">   0.023</span> │ <span style=\"color: #008080; text-decoration-color: #008080\">     -1.1</span> │ <span style=\"color: #008080; text-decoration-color: #008080\">     -0.97</span> │ <span style=\"color: #008080; text-decoration-color: #008080\">    -0.95</span> │ <span style=\"color: #008080; text-decoration-color: #008080\">     -0.87</span> │ <span style=\"color: #008000; text-decoration-color: #008000\"> ▁▇█▁ </span> │  │\n",
       "│ │ <span style=\"color: #af87ff; text-decoration-color: #af87ff\">ngitude  </span> │      │      │            │          │           │            │           │            │        │  │\n",
       "│ │ <span style=\"color: #af87ff; text-decoration-color: #af87ff\">origin_la</span> │ <span style=\"color: #008080; text-decoration-color: #008080\">   0</span> │ <span style=\"color: #008080; text-decoration-color: #008080\">   0</span> │ <span style=\"color: #008080; text-decoration-color: #008080\">        51</span> │ <span style=\"color: #008080; text-decoration-color: #008080\">   0.012</span> │ <span style=\"color: #008080; text-decoration-color: #008080\">       51</span> │ <span style=\"color: #008080; text-decoration-color: #008080\">        51</span> │ <span style=\"color: #008080; text-decoration-color: #008080\">       51</span> │ <span style=\"color: #008080; text-decoration-color: #008080\">        51</span> │ <span style=\"color: #008000; text-decoration-color: #008000\"> ▁▄█▁ </span> │  │\n",
       "│ │ <span style=\"color: #af87ff; text-decoration-color: #af87ff\">titude   </span> │      │      │            │          │           │            │           │            │        │  │\n",
       "│ │ <span style=\"color: #af87ff; text-decoration-color: #af87ff\">m_order_e</span> │ <span style=\"color: #008080; text-decoration-color: #008080\">7900</span> │ <span style=\"color: #008080; text-decoration-color: #008080\">  74</span> │ <span style=\"color: #008080; text-decoration-color: #008080\">       440</span> │ <span style=\"color: #008080; text-decoration-color: #008080\">     290</span> │ <span style=\"color: #008080; text-decoration-color: #008080\">       60</span> │ <span style=\"color: #008080; text-decoration-color: #008080\">       230</span> │ <span style=\"color: #008080; text-decoration-color: #008080\">      650</span> │ <span style=\"color: #008080; text-decoration-color: #008080\">      1600</span> │ <span style=\"color: #008000; text-decoration-color: #008000\">█▅▃▂▁ </span> │  │\n",
       "│ │ <span style=\"color: #af87ff; text-decoration-color: #af87ff\">ta       </span> │      │      │            │          │           │            │           │            │        │  │\n",
       "│ │ <span style=\"color: #af87ff; text-decoration-color: #af87ff\">order_gk </span> │ <span style=\"color: #008080; text-decoration-color: #008080\">   0</span> │ <span style=\"color: #008080; text-decoration-color: #008080\">   0</span> │ <span style=\"color: #008080; text-decoration-color: #008080\">3000000000</span> │ <span style=\"color: #008080; text-decoration-color: #008080\">24000000</span> │ <span style=\"color: #008080; text-decoration-color: #008080\">300000000</span> │ <span style=\"color: #008080; text-decoration-color: #008080\">3000000000</span> │ <span style=\"color: #008080; text-decoration-color: #008080\">300000000</span> │ <span style=\"color: #008080; text-decoration-color: #008080\">3000000000</span> │ <span style=\"color: #008000; text-decoration-color: #008000\">▃ ▇▅▂█</span> │  │\n",
       "│ │           │      │      │ <span style=\"color: #008080; text-decoration-color: #008080\">       000</span> │          │ <span style=\"color: #008080; text-decoration-color: #008080\">     0000</span> │ <span style=\"color: #008080; text-decoration-color: #008080\">       000</span> │ <span style=\"color: #008080; text-decoration-color: #008080\">     0000</span> │ <span style=\"color: #008080; text-decoration-color: #008080\">       000</span> │        │  │\n",
       "│ │ <span style=\"color: #af87ff; text-decoration-color: #af87ff\">order_sta</span> │ <span style=\"color: #008080; text-decoration-color: #008080\">   0</span> │ <span style=\"color: #008080; text-decoration-color: #008080\">   0</span> │ <span style=\"color: #008080; text-decoration-color: #008080\">       5.6</span> │ <span style=\"color: #008080; text-decoration-color: #008080\">     2.3</span> │ <span style=\"color: #008080; text-decoration-color: #008080\">        4</span> │ <span style=\"color: #008080; text-decoration-color: #008080\">         4</span> │ <span style=\"color: #008080; text-decoration-color: #008080\">        9</span> │ <span style=\"color: #008080; text-decoration-color: #008080\">         9</span> │ <span style=\"color: #008000; text-decoration-color: #008000\">█    ▄</span> │  │\n",
       "│ │ <span style=\"color: #af87ff; text-decoration-color: #af87ff\">tus_key  </span> │      │      │            │          │           │            │           │            │        │  │\n",
       "│ │ <span style=\"color: #af87ff; text-decoration-color: #af87ff\">is_driver</span> │ <span style=\"color: #008080; text-decoration-color: #008080\">   0</span> │ <span style=\"color: #008080; text-decoration-color: #008080\">   0</span> │ <span style=\"color: #008080; text-decoration-color: #008080\">      0.26</span> │ <span style=\"color: #008080; text-decoration-color: #008080\">    0.44</span> │ <span style=\"color: #008080; text-decoration-color: #008080\">        0</span> │ <span style=\"color: #008080; text-decoration-color: #008080\">         0</span> │ <span style=\"color: #008080; text-decoration-color: #008080\">        1</span> │ <span style=\"color: #008080; text-decoration-color: #008080\">         1</span> │ <span style=\"color: #008000; text-decoration-color: #008000\">█    ▃</span> │  │\n",
       "│ │ <span style=\"color: #af87ff; text-decoration-color: #af87ff\">_assigned</span> │      │      │            │          │           │            │           │            │        │  │\n",
       "│ │ <span style=\"color: #af87ff; text-decoration-color: #af87ff\">_k       </span> │      │      │            │          │           │            │           │            │        │  │\n",
       "│ │ <span style=\"color: #af87ff; text-decoration-color: #af87ff\">cancellat</span> │ <span style=\"color: #008080; text-decoration-color: #008080\">3400</span> │ <span style=\"color: #008080; text-decoration-color: #008080\">  32</span> │ <span style=\"color: #008080; text-decoration-color: #008080\">       160</span> │ <span style=\"color: #008080; text-decoration-color: #008080\">     210</span> │ <span style=\"color: #008080; text-decoration-color: #008080\">        3</span> │ <span style=\"color: #008080; text-decoration-color: #008080\">        45</span> │ <span style=\"color: #008080; text-decoration-color: #008080\">      190</span> │ <span style=\"color: #008080; text-decoration-color: #008080\">      4300</span> │ <span style=\"color: #008000; text-decoration-color: #008000\">  █   </span> │  │\n",
       "│ │ <span style=\"color: #af87ff; text-decoration-color: #af87ff\">ions_time</span> │      │      │            │          │           │            │           │            │        │  │\n",
       "│ │ <span style=\"color: #af87ff; text-decoration-color: #af87ff\">_i       </span> │      │      │            │          │           │            │           │            │        │  │\n",
       "│ └───────────┴──────┴──────┴────────────┴──────────┴───────────┴────────────┴───────────┴────────────┴────────┘  │\n",
       "│ <span style=\"font-style: italic\">                                                    string                                                    </span>  │\n",
       "│ ┏━━━━━━━━━━━━━━━━━━━━━━━━━━━━━━━┳━━━━━━━━┳━━━━━━━━━━━━┳━━━━━━━━━━━━━━━━━━━━━━━━━━━━━┳━━━━━━━━━━━━━━━━━━━━━━━━┓  │\n",
       "│ ┃<span style=\"font-weight: bold\"> column_name                   </span>┃<span style=\"font-weight: bold\"> NA     </span>┃<span style=\"font-weight: bold\"> NA %       </span>┃<span style=\"font-weight: bold\"> words per row               </span>┃<span style=\"font-weight: bold\"> total words            </span>┃  │\n",
       "│ ┡━━━━━━━━━━━━━━━━━━━━━━━━━━━━━━━╇━━━━━━━━╇━━━━━━━━━━━━╇━━━━━━━━━━━━━━━━━━━━━━━━━━━━━╇━━━━━━━━━━━━━━━━━━━━━━━━┩  │\n",
       "│ │ <span style=\"color: #af87ff; text-decoration-color: #af87ff\">order_datetime               </span> │ <span style=\"color: #008080; text-decoration-color: #008080\">     0</span> │ <span style=\"color: #008080; text-decoration-color: #008080\">         0</span> │ <span style=\"color: #008080; text-decoration-color: #008080\">                          1</span> │ <span style=\"color: #008080; text-decoration-color: #008080\">                 11000</span> │  │\n",
       "│ └───────────────────────────────┴────────┴────────────┴─────────────────────────────┴────────────────────────┘  │\n",
       "╰────────────────────────────────────────────────────── End ──────────────────────────────────────────────────────╯\n",
       "</pre>\n"
      ],
      "text/plain": [
       "╭──────────────────────────────────────────────── skimpy summary ─────────────────────────────────────────────────╮\n",
       "│ \u001b[3m         Data Summary         \u001b[0m \u001b[3m      Data Types       \u001b[0m                                                          │\n",
       "│ ┏━━━━━━━━━━━━━━━━━━━┳━━━━━━━━┓ ┏━━━━━━━━━━━━━┳━━━━━━━┓                                                          │\n",
       "│ ┃\u001b[1;36m \u001b[0m\u001b[1;36mdataframe        \u001b[0m\u001b[1;36m \u001b[0m┃\u001b[1;36m \u001b[0m\u001b[1;36mValues\u001b[0m\u001b[1;36m \u001b[0m┃ ┃\u001b[1;36m \u001b[0m\u001b[1;36mColumn Type\u001b[0m\u001b[1;36m \u001b[0m┃\u001b[1;36m \u001b[0m\u001b[1;36mCount\u001b[0m\u001b[1;36m \u001b[0m┃                                                          │\n",
       "│ ┡━━━━━━━━━━━━━━━━━━━╇━━━━━━━━┩ ┡━━━━━━━━━━━━━╇━━━━━━━┩                                                          │\n",
       "│ │ Number of rows    │ 10716  │ │ float64     │ 4     │                                                          │\n",
       "│ │ Number of columns │ 8      │ │ int64       │ 3     │                                                          │\n",
       "│ └───────────────────┴────────┘ │ string      │ 1     │                                                          │\n",
       "│                                └─────────────┴───────┘                                                          │\n",
       "│ \u001b[3m                                                    number                                                    \u001b[0m  │\n",
       "│ ┏━━━━━━━━━━━┳━━━━━━┳━━━━━━┳━━━━━━━━━━━━┳━━━━━━━━━━┳━━━━━━━━━━━┳━━━━━━━━━━━━┳━━━━━━━━━━━┳━━━━━━━━━━━━┳━━━━━━━━┓  │\n",
       "│ ┃\u001b[1m \u001b[0m\u001b[1mcolumn_na\u001b[0m\u001b[1m \u001b[0m┃\u001b[1m      \u001b[0m┃\u001b[1m      \u001b[0m┃\u001b[1m            \u001b[0m┃\u001b[1m          \u001b[0m┃\u001b[1m           \u001b[0m┃\u001b[1m            \u001b[0m┃\u001b[1m           \u001b[0m┃\u001b[1m            \u001b[0m┃\u001b[1m        \u001b[0m┃  │\n",
       "│ ┃\u001b[1m \u001b[0m\u001b[1mme       \u001b[0m\u001b[1m \u001b[0m┃\u001b[1m \u001b[0m\u001b[1mNA  \u001b[0m\u001b[1m \u001b[0m┃\u001b[1m \u001b[0m\u001b[1mNA %\u001b[0m\u001b[1m \u001b[0m┃\u001b[1m \u001b[0m\u001b[1mmean      \u001b[0m\u001b[1m \u001b[0m┃\u001b[1m \u001b[0m\u001b[1msd      \u001b[0m\u001b[1m \u001b[0m┃\u001b[1m \u001b[0m\u001b[1mp0       \u001b[0m\u001b[1m \u001b[0m┃\u001b[1m \u001b[0m\u001b[1mp25       \u001b[0m\u001b[1m \u001b[0m┃\u001b[1m \u001b[0m\u001b[1mp75      \u001b[0m\u001b[1m \u001b[0m┃\u001b[1m \u001b[0m\u001b[1mp100      \u001b[0m\u001b[1m \u001b[0m┃\u001b[1m \u001b[0m\u001b[1mhist  \u001b[0m\u001b[1m \u001b[0m┃  │\n",
       "│ ┡━━━━━━━━━━━╇━━━━━━╇━━━━━━╇━━━━━━━━━━━━╇━━━━━━━━━━╇━━━━━━━━━━━╇━━━━━━━━━━━━╇━━━━━━━━━━━╇━━━━━━━━━━━━╇━━━━━━━━┩  │\n",
       "│ │ \u001b[38;5;141morigin_lo\u001b[0m │ \u001b[36m   0\u001b[0m │ \u001b[36m   0\u001b[0m │ \u001b[36m     -0.96\u001b[0m │ \u001b[36m   0.023\u001b[0m │ \u001b[36m     -1.1\u001b[0m │ \u001b[36m     -0.97\u001b[0m │ \u001b[36m    -0.95\u001b[0m │ \u001b[36m     -0.87\u001b[0m │ \u001b[32m ▁▇█▁ \u001b[0m │  │\n",
       "│ │ \u001b[38;5;141mngitude  \u001b[0m │      │      │            │          │           │            │           │            │        │  │\n",
       "│ │ \u001b[38;5;141morigin_la\u001b[0m │ \u001b[36m   0\u001b[0m │ \u001b[36m   0\u001b[0m │ \u001b[36m        51\u001b[0m │ \u001b[36m   0.012\u001b[0m │ \u001b[36m       51\u001b[0m │ \u001b[36m        51\u001b[0m │ \u001b[36m       51\u001b[0m │ \u001b[36m        51\u001b[0m │ \u001b[32m ▁▄█▁ \u001b[0m │  │\n",
       "│ │ \u001b[38;5;141mtitude   \u001b[0m │      │      │            │          │           │            │           │            │        │  │\n",
       "│ │ \u001b[38;5;141mm_order_e\u001b[0m │ \u001b[36m7900\u001b[0m │ \u001b[36m  74\u001b[0m │ \u001b[36m       440\u001b[0m │ \u001b[36m     290\u001b[0m │ \u001b[36m       60\u001b[0m │ \u001b[36m       230\u001b[0m │ \u001b[36m      650\u001b[0m │ \u001b[36m      1600\u001b[0m │ \u001b[32m█▅▃▂▁ \u001b[0m │  │\n",
       "│ │ \u001b[38;5;141mta       \u001b[0m │      │      │            │          │           │            │           │            │        │  │\n",
       "│ │ \u001b[38;5;141morder_gk \u001b[0m │ \u001b[36m   0\u001b[0m │ \u001b[36m   0\u001b[0m │ \u001b[36m3000000000\u001b[0m │ \u001b[36m24000000\u001b[0m │ \u001b[36m300000000\u001b[0m │ \u001b[36m3000000000\u001b[0m │ \u001b[36m300000000\u001b[0m │ \u001b[36m3000000000\u001b[0m │ \u001b[32m▃ ▇▅▂█\u001b[0m │  │\n",
       "│ │           │      │      │ \u001b[36m       000\u001b[0m │          │ \u001b[36m     0000\u001b[0m │ \u001b[36m       000\u001b[0m │ \u001b[36m     0000\u001b[0m │ \u001b[36m       000\u001b[0m │        │  │\n",
       "│ │ \u001b[38;5;141morder_sta\u001b[0m │ \u001b[36m   0\u001b[0m │ \u001b[36m   0\u001b[0m │ \u001b[36m       5.6\u001b[0m │ \u001b[36m     2.3\u001b[0m │ \u001b[36m        4\u001b[0m │ \u001b[36m         4\u001b[0m │ \u001b[36m        9\u001b[0m │ \u001b[36m         9\u001b[0m │ \u001b[32m█    ▄\u001b[0m │  │\n",
       "│ │ \u001b[38;5;141mtus_key  \u001b[0m │      │      │            │          │           │            │           │            │        │  │\n",
       "│ │ \u001b[38;5;141mis_driver\u001b[0m │ \u001b[36m   0\u001b[0m │ \u001b[36m   0\u001b[0m │ \u001b[36m      0.26\u001b[0m │ \u001b[36m    0.44\u001b[0m │ \u001b[36m        0\u001b[0m │ \u001b[36m         0\u001b[0m │ \u001b[36m        1\u001b[0m │ \u001b[36m         1\u001b[0m │ \u001b[32m█    ▃\u001b[0m │  │\n",
       "│ │ \u001b[38;5;141m_assigned\u001b[0m │      │      │            │          │           │            │           │            │        │  │\n",
       "│ │ \u001b[38;5;141m_k       \u001b[0m │      │      │            │          │           │            │           │            │        │  │\n",
       "│ │ \u001b[38;5;141mcancellat\u001b[0m │ \u001b[36m3400\u001b[0m │ \u001b[36m  32\u001b[0m │ \u001b[36m       160\u001b[0m │ \u001b[36m     210\u001b[0m │ \u001b[36m        3\u001b[0m │ \u001b[36m        45\u001b[0m │ \u001b[36m      190\u001b[0m │ \u001b[36m      4300\u001b[0m │ \u001b[32m  █   \u001b[0m │  │\n",
       "│ │ \u001b[38;5;141mions_time\u001b[0m │      │      │            │          │           │            │           │            │        │  │\n",
       "│ │ \u001b[38;5;141m_i       \u001b[0m │      │      │            │          │           │            │           │            │        │  │\n",
       "│ └───────────┴──────┴──────┴────────────┴──────────┴───────────┴────────────┴───────────┴────────────┴────────┘  │\n",
       "│ \u001b[3m                                                    string                                                    \u001b[0m  │\n",
       "│ ┏━━━━━━━━━━━━━━━━━━━━━━━━━━━━━━━┳━━━━━━━━┳━━━━━━━━━━━━┳━━━━━━━━━━━━━━━━━━━━━━━━━━━━━┳━━━━━━━━━━━━━━━━━━━━━━━━┓  │\n",
       "│ ┃\u001b[1m \u001b[0m\u001b[1mcolumn_name                  \u001b[0m\u001b[1m \u001b[0m┃\u001b[1m \u001b[0m\u001b[1mNA    \u001b[0m\u001b[1m \u001b[0m┃\u001b[1m \u001b[0m\u001b[1mNA %      \u001b[0m\u001b[1m \u001b[0m┃\u001b[1m \u001b[0m\u001b[1mwords per row              \u001b[0m\u001b[1m \u001b[0m┃\u001b[1m \u001b[0m\u001b[1mtotal words           \u001b[0m\u001b[1m \u001b[0m┃  │\n",
       "│ ┡━━━━━━━━━━━━━━━━━━━━━━━━━━━━━━━╇━━━━━━━━╇━━━━━━━━━━━━╇━━━━━━━━━━━━━━━━━━━━━━━━━━━━━╇━━━━━━━━━━━━━━━━━━━━━━━━┩  │\n",
       "│ │ \u001b[38;5;141morder_datetime               \u001b[0m │ \u001b[36m     0\u001b[0m │ \u001b[36m         0\u001b[0m │ \u001b[36m                          1\u001b[0m │ \u001b[36m                 11000\u001b[0m │  │\n",
       "│ └───────────────────────────────┴────────┴────────────┴─────────────────────────────┴────────────────────────┘  │\n",
       "╰────────────────────────────────────────────────────── End ──────────────────────────────────────────────────────╯\n"
      ]
     },
     "metadata": {},
     "output_type": "display_data"
    }
   ],
   "source": [
    "skim(df_data_orders)"
   ]
  },
  {
   "cell_type": "code",
   "execution_count": 9,
   "metadata": {},
   "outputs": [
    {
     "data": {
      "text/html": [
       "<div>\n",
       "<style scoped>\n",
       "    .dataframe tbody tr th:only-of-type {\n",
       "        vertical-align: middle;\n",
       "    }\n",
       "\n",
       "    .dataframe tbody tr th {\n",
       "        vertical-align: top;\n",
       "    }\n",
       "\n",
       "    .dataframe thead th {\n",
       "        text-align: right;\n",
       "    }\n",
       "</style>\n",
       "<table border=\"1\" class=\"dataframe\">\n",
       "  <thead>\n",
       "    <tr style=\"text-align: right;\">\n",
       "      <th></th>\n",
       "      <th>origin_longitude</th>\n",
       "      <th>origin_latitude</th>\n",
       "      <th>m_order_eta</th>\n",
       "      <th>order_gk</th>\n",
       "      <th>order_status_key</th>\n",
       "      <th>is_driver_assigned_key</th>\n",
       "      <th>cancellations_time_in_seconds</th>\n",
       "    </tr>\n",
       "  </thead>\n",
       "  <tbody>\n",
       "    <tr>\n",
       "      <th>count</th>\n",
       "      <td>10716.000000</td>\n",
       "      <td>10716.000000</td>\n",
       "      <td>2814.000000</td>\n",
       "      <td>1.071600e+04</td>\n",
       "      <td>10716.000000</td>\n",
       "      <td>10716.000000</td>\n",
       "      <td>7307.000000</td>\n",
       "    </tr>\n",
       "    <tr>\n",
       "      <th>mean</th>\n",
       "      <td>-0.964323</td>\n",
       "      <td>51.450541</td>\n",
       "      <td>441.415423</td>\n",
       "      <td>3.000598e+12</td>\n",
       "      <td>5.590612</td>\n",
       "      <td>0.262598</td>\n",
       "      <td>157.892021</td>\n",
       "    </tr>\n",
       "    <tr>\n",
       "      <th>std</th>\n",
       "      <td>0.022818</td>\n",
       "      <td>0.011984</td>\n",
       "      <td>288.006379</td>\n",
       "      <td>2.396261e+07</td>\n",
       "      <td>2.328845</td>\n",
       "      <td>0.440066</td>\n",
       "      <td>213.366963</td>\n",
       "    </tr>\n",
       "    <tr>\n",
       "      <th>min</th>\n",
       "      <td>-1.066957</td>\n",
       "      <td>51.399323</td>\n",
       "      <td>60.000000</td>\n",
       "      <td>3.000550e+12</td>\n",
       "      <td>4.000000</td>\n",
       "      <td>0.000000</td>\n",
       "      <td>3.000000</td>\n",
       "    </tr>\n",
       "    <tr>\n",
       "      <th>25%</th>\n",
       "      <td>-0.974363</td>\n",
       "      <td>51.444643</td>\n",
       "      <td>233.000000</td>\n",
       "      <td>3.000583e+12</td>\n",
       "      <td>4.000000</td>\n",
       "      <td>0.000000</td>\n",
       "      <td>45.000000</td>\n",
       "    </tr>\n",
       "    <tr>\n",
       "      <th>50%</th>\n",
       "      <td>-0.966386</td>\n",
       "      <td>51.451972</td>\n",
       "      <td>368.500000</td>\n",
       "      <td>3.000595e+12</td>\n",
       "      <td>4.000000</td>\n",
       "      <td>0.000000</td>\n",
       "      <td>98.000000</td>\n",
       "    </tr>\n",
       "    <tr>\n",
       "      <th>75%</th>\n",
       "      <td>-0.949605</td>\n",
       "      <td>51.456725</td>\n",
       "      <td>653.000000</td>\n",
       "      <td>3.000623e+12</td>\n",
       "      <td>9.000000</td>\n",
       "      <td>1.000000</td>\n",
       "      <td>187.500000</td>\n",
       "    </tr>\n",
       "    <tr>\n",
       "      <th>max</th>\n",
       "      <td>-0.867088</td>\n",
       "      <td>51.496169</td>\n",
       "      <td>1559.000000</td>\n",
       "      <td>3.000633e+12</td>\n",
       "      <td>9.000000</td>\n",
       "      <td>1.000000</td>\n",
       "      <td>4303.000000</td>\n",
       "    </tr>\n",
       "  </tbody>\n",
       "</table>\n",
       "</div>"
      ],
      "text/plain": [
       "       origin_longitude  origin_latitude  m_order_eta      order_gk  \\\n",
       "count      10716.000000     10716.000000  2814.000000  1.071600e+04   \n",
       "mean          -0.964323        51.450541   441.415423  3.000598e+12   \n",
       "std            0.022818         0.011984   288.006379  2.396261e+07   \n",
       "min           -1.066957        51.399323    60.000000  3.000550e+12   \n",
       "25%           -0.974363        51.444643   233.000000  3.000583e+12   \n",
       "50%           -0.966386        51.451972   368.500000  3.000595e+12   \n",
       "75%           -0.949605        51.456725   653.000000  3.000623e+12   \n",
       "max           -0.867088        51.496169  1559.000000  3.000633e+12   \n",
       "\n",
       "       order_status_key  is_driver_assigned_key  cancellations_time_in_seconds  \n",
       "count      10716.000000            10716.000000                    7307.000000  \n",
       "mean           5.590612                0.262598                     157.892021  \n",
       "std            2.328845                0.440066                     213.366963  \n",
       "min            4.000000                0.000000                       3.000000  \n",
       "25%            4.000000                0.000000                      45.000000  \n",
       "50%            4.000000                0.000000                      98.000000  \n",
       "75%            9.000000                1.000000                     187.500000  \n",
       "max            9.000000                1.000000                    4303.000000  "
      ]
     },
     "execution_count": 9,
     "metadata": {},
     "output_type": "execute_result"
    }
   ],
   "source": [
    "df_data_orders.describe()"
   ]
  },
  {
   "attachments": {},
   "cell_type": "markdown",
   "metadata": {},
   "source": [
    "**Comment**: Mean and median similar in all the variables but the `m_order_eta` where the mean is much higher than the median (skewed to the right)."
   ]
  },
  {
   "cell_type": "code",
   "execution_count": 12,
   "metadata": {},
   "outputs": [
    {
     "name": "stdout",
     "output_type": "stream",
     "text": [
      "<class 'pandas.core.frame.DataFrame'>\n",
      "RangeIndex: 10716 entries, 0 to 10715\n",
      "Data columns (total 8 columns):\n",
      " #   Column                         Non-Null Count  Dtype  \n",
      "---  ------                         --------------  -----  \n",
      " 0   order_datetime                 10716 non-null  object \n",
      " 1   origin_longitude               10716 non-null  float64\n",
      " 2   origin_latitude                10716 non-null  float64\n",
      " 3   m_order_eta                    2814 non-null   float64\n",
      " 4   order_gk                       10716 non-null  int64  \n",
      " 5   order_status_key               10716 non-null  int64  \n",
      " 6   is_driver_assigned_key         10716 non-null  int64  \n",
      " 7   cancellations_time_in_seconds  7307 non-null   float64\n",
      "dtypes: float64(4), int64(3), object(1)\n",
      "memory usage: 669.9+ KB\n"
     ]
    }
   ],
   "source": [
    "df_data_orders.info()"
   ]
  },
  {
   "cell_type": "code",
   "execution_count": 11,
   "metadata": {},
   "outputs": [
    {
     "data": {
      "text/plain": [
       "order_datetime                   0.000000\n",
       "origin_longitude                 0.000000\n",
       "origin_latitude                  0.000000\n",
       "m_order_eta                      0.737402\n",
       "order_gk                         0.000000\n",
       "order_status_key                 0.000000\n",
       "is_driver_assigned_key           0.000000\n",
       "cancellations_time_in_seconds    0.318122\n",
       "dtype: float64"
      ]
     },
     "execution_count": 11,
     "metadata": {},
     "output_type": "execute_result"
    }
   ],
   "source": [
    "df_data_orders.isnull().sum()/len(df_data_orders)"
   ]
  },
  {
   "attachments": {},
   "cell_type": "markdown",
   "metadata": {},
   "source": [
    "**Comment**: The amount of null values in the variable `m_order_eta` is higher in proportion than the observations we have for this variable. Also the data is skewed (is there a relationship between these two variables?). Consequently it'd be better to discard this variable, since it could provide some noise to the dataset.\n",
    "Regarding `cancellations_time_in_seconds`, it has a high proportion of null values but it doesn't seem to be extremely skweded."
   ]
  },
  {
   "cell_type": "code",
   "execution_count": 14,
   "metadata": {},
   "outputs": [
    {
     "data": {
      "text/plain": [
       "4    68.187757\n",
       "9    31.812243\n",
       "Name: order_status_key, dtype: float64"
      ]
     },
     "execution_count": 14,
     "metadata": {},
     "output_type": "execute_result"
    }
   ],
   "source": [
    "df_data_orders['order_status_key'].value_counts(normalize=True)*100"
   ]
  },
  {
   "attachments": {},
   "cell_type": "markdown",
   "metadata": {},
   "source": [
    "**Comment**: The 68% of the cancellations were performed by the client, while the 32% were cancelled by the system."
   ]
  },
  {
   "cell_type": "code",
   "execution_count": 16,
   "metadata": {},
   "outputs": [
    {
     "data": {
      "text/plain": [
       "0    73.740202\n",
       "1    26.259798\n",
       "Name: is_driver_assigned_key, dtype: float64"
      ]
     },
     "execution_count": 16,
     "metadata": {},
     "output_type": "execute_result"
    }
   ],
   "source": [
    "df_data_orders['is_driver_assigned_key'].value_counts(normalize=True)*100"
   ]
  },
  {
   "attachments": {},
   "cell_type": "markdown",
   "metadata": {},
   "source": [
    "**Comment**: Only 26% of the cancelled orders had a driver assigned."
   ]
  },
  {
   "attachments": {},
   "cell_type": "markdown",
   "metadata": {},
   "source": []
  }
 ],
 "metadata": {
  "kernelspec": {
   "display_name": "lewagon",
   "language": "python",
   "name": "python3"
  },
  "language_info": {
   "codemirror_mode": {
    "name": "ipython",
    "version": 3
   },
   "file_extension": ".py",
   "mimetype": "text/x-python",
   "name": "python",
   "nbconvert_exporter": "python",
   "pygments_lexer": "ipython3",
   "version": "3.10.6"
  },
  "orig_nbformat": 4,
  "vscode": {
   "interpreter": {
    "hash": "346065075f3d69b6b532528f05466c31c2424a3eaa3070a8fc10e0cabaff05d2"
   }
  }
 },
 "nbformat": 4,
 "nbformat_minor": 2
}
